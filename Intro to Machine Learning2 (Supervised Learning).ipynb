{
 "cells": [
  {
   "cell_type": "markdown",
   "metadata": {},
   "source": [
    "# Supervised Learning"
   ]
  },
  {
   "cell_type": "markdown",
   "metadata": {},
   "source": [
    "** A type of Learning where the target is given and you wish to find the function that maximized the likelihood of predicting the target **"
   ]
  },
  {
   "cell_type": "markdown",
   "metadata": {},
   "source": [
    "**Classification** : When your targets value is a subset of integers up to isomorphism.  example:   [1,3,2,1,4,2] or ['happy','sad','calm']\n",
    "\n",
    "**Regression** : when your target is a subset of reals up to isomorphism.    example: [1.3,2.52,1,2.0,3]"
   ]
  }
 ],
 "metadata": {
  "kernelspec": {
   "display_name": "Python 3",
   "language": "python",
   "name": "python3"
  },
  "language_info": {
   "codemirror_mode": {
    "name": "ipython",
    "version": 3
   },
   "file_extension": ".py",
   "mimetype": "text/x-python",
   "name": "python",
   "nbconvert_exporter": "python",
   "pygments_lexer": "ipython3",
   "version": "3.6.2"
  }
 },
 "nbformat": 4,
 "nbformat_minor": 2
}
